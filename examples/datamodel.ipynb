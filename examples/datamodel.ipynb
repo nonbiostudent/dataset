{
 "cells": [
  {
   "cell_type": "code",
   "execution_count": null,
   "metadata": {
    "collapsed": false,
    "deletable": true,
    "editable": true
   },
   "outputs": [],
   "source": [
    "%matplotlib inline\n",
    "import matplotlib.pyplot as plt\n",
    "from spectroscopy.dataset import Dataset\n",
    "from spectroscopy.visualize import plot\n",
    "import tempfile\n",
    "import numpy as np"
   ]
  },
  {
   "cell_type": "markdown",
   "metadata": {
    "deletable": true,
    "editable": true
   },
   "source": [
    "## General structure of the datamodel"
   ]
  },
  {
   "cell_type": "code",
   "execution_count": null,
   "metadata": {
    "collapsed": false,
    "deletable": true,
    "editable": true
   },
   "outputs": [],
   "source": [
    "from IPython.display import Image\n",
    "Image(filename='../docs/_images/datamodel_simple.png')"
   ]
  },
  {
   "cell_type": "markdown",
   "metadata": {
    "deletable": true,
    "editable": true
   },
   "source": [
    "## Load and explore an existing data file\n",
    "In the following we load a dataset from one day of SO<sub>2</sub> monitoring using MiniDOAS sensors on White Island, New Zealand."
   ]
  },
  {
   "cell_type": "code",
   "execution_count": null,
   "metadata": {
    "collapsed": true,
    "deletable": true,
    "editable": true
   },
   "outputs": [],
   "source": [
    "d = Dataset.open('../tests/data/minidoas_test.h5')"
   ]
  },
  {
   "cell_type": "code",
   "execution_count": null,
   "metadata": {
    "collapsed": false,
    "deletable": true,
    "editable": true
   },
   "outputs": [],
   "source": [
    "# Get the first PreferredFlux element\n",
    "pf = d.elements['PreferredFlux'][0]\n",
    "pf"
   ]
  },
  {
   "cell_type": "code",
   "execution_count": null,
   "metadata": {
    "collapsed": false,
    "deletable": true,
    "editable": true
   },
   "outputs": [],
   "source": [
    "# Show the values of this element\n",
    "pf.value[:]"
   ]
  },
  {
   "cell_type": "code",
   "execution_count": null,
   "metadata": {
    "collapsed": false,
    "deletable": true,
    "editable": true
   },
   "outputs": [],
   "source": [
    "# Get the Flux element the PreferredFlux elements points to\n",
    "f = pf.fluxes[0]\n",
    "\n",
    "# Get the Flux value that corresponds to the second PreferredFlux value\n",
    "idx = pf.flux_indices[0,1]\n",
    "print f.value[idx]\n",
    "\n",
    "# Get the Concentration element and the Concentration indices that correspond to \n",
    "# this particular Flux value\n",
    "c = f.concentration\n",
    "idx0, idx1 = f.concentration_indices[idx]\n",
    "\n",
    "# Get the Rawdata element (i.e. the raw spectra) that correspond to Concentration values\n",
    "r = c.rawdata[0]\n",
    "\n",
    "# Plot the Concentration values for one scan\n",
    "plt.figure()\n",
    "plt.plot(r.inc_angle[c.rawdata_indices[idx0:idx1+1]], c.value[idx0:idx1+1])"
   ]
  },
  {
   "cell_type": "code",
   "execution_count": null,
   "metadata": {
    "collapsed": false,
    "deletable": true,
    "editable": true
   },
   "outputs": [],
   "source": [
    "# Show an overview plot showing all scans for a day (in UTC).\n",
    "# Every vertical line corresponds to one scan\n",
    "plot(c, angle_bin=4.0)"
   ]
  },
  {
   "cell_type": "code",
   "execution_count": null,
   "metadata": {
    "collapsed": false,
    "deletable": true,
    "editable": true
   },
   "outputs": [],
   "source": [
    "# Show an overview plot of all raw-spectra for 1 hour of measurements\n",
    "plot(r, datemin='2016-10-31T22:00:00', datemax='2016-10-31T23:00:00')"
   ]
  },
  {
   "cell_type": "code",
   "execution_count": null,
   "metadata": {
    "collapsed": true,
    "deletable": true,
    "editable": true
   },
   "outputs": [],
   "source": [
    "# Get the gasflow element for the flux estimate\n",
    "# In this case this represents the wind speed and\n",
    "# direction at the center of the plume\n",
    "gf = f.gasflow"
   ]
  },
  {
   "cell_type": "code",
   "execution_count": null,
   "metadata": {
    "collapsed": false,
    "deletable": true,
    "editable": true
   },
   "outputs": [],
   "source": [
    "plot(gf, vent=r.target.position[:])"
   ]
  },
  {
   "cell_type": "code",
   "execution_count": null,
   "metadata": {
    "collapsed": false,
    "deletable": true,
    "editable": true
   },
   "outputs": [],
   "source": [
    "# Show instrument and target (i.e. vent) information\n",
    "print repr(r.instrument)\n",
    "print repr(r.target)"
   ]
  },
  {
   "cell_type": "code",
   "execution_count": null,
   "metadata": {
    "collapsed": false,
    "deletable": true,
    "editable": true
   },
   "outputs": [],
   "source": [
    "# Show target position\n",
    "r.target.position[:]"
   ]
  },
  {
   "cell_type": "code",
   "execution_count": null,
   "metadata": {
    "collapsed": true,
    "deletable": true,
    "editable": true
   },
   "outputs": [],
   "source": [
    "# Close the dataset\n",
    "d.close()"
   ]
  },
  {
   "cell_type": "markdown",
   "metadata": {
    "deletable": true,
    "editable": true
   },
   "source": [
    "## Create a dataset from a Flyspec measurement file"
   ]
  },
  {
   "cell_type": "code",
   "execution_count": null,
   "metadata": {
    "collapsed": false,
    "deletable": true,
    "editable": true
   },
   "outputs": [],
   "source": [
    "filename = \"../tests/data/2012_02_29_1340_CHILE.txt\"\n",
    "d = Dataset(tempfile.mktemp(),'w')\n",
    "e = d.read(filename, ftype='FLYSPEC', timeshift=-21)\n",
    "rdt = d.new(e['RawDataTypeBuffer'])\n",
    "rb = e['RawDataBuffer']\n",
    "rb.type = rdt\n",
    "r = d.new(rb)\n",
    "cb = e['ConcentrationBuffer']\n",
    "cb.rawdata = [r]\n",
    "cb.rawdata_indices = np.arange(r.inc_angle.shape[0])\n",
    "c = d.new(cb)\n",
    "plot(c, timeshift=-21)"
   ]
  },
  {
   "cell_type": "code",
   "execution_count": null,
   "metadata": {
    "collapsed": true,
    "deletable": true,
    "editable": true
   },
   "outputs": [],
   "source": []
  }
 ],
 "metadata": {
  "kernelspec": {
   "display_name": "Python 2",
   "language": "python",
   "name": "python2"
  },
  "language_info": {
   "codemirror_mode": {
    "name": "ipython",
    "version": 2
   },
   "file_extension": ".py",
   "mimetype": "text/x-python",
   "name": "python",
   "nbconvert_exporter": "python",
   "pygments_lexer": "ipython2",
   "version": "2.7.12"
  }
 },
 "nbformat": 4,
 "nbformat_minor": 1
}
